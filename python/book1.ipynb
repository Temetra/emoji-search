{
 "cells": [
  {
   "cell_type": "code",
   "execution_count": 1,
   "metadata": {},
   "outputs": [],
   "source": [
    "import json\n",
    "from difflib import SequenceMatcher"
   ]
  },
  {
   "cell_type": "code",
   "execution_count": 5,
   "metadata": {},
   "outputs": [],
   "source": [
    "# https://github.com/muan/emojilib\n",
    "with open(\"emoji-en-US.json\", encoding=\"utf8\") as file:\n",
    "    source = json.load(file)\n",
    "\n",
    "# Reshape dict into list\n",
    "reshaped = []\n",
    "for (emoji, values) in source.items():\n",
    "    name = values[:1][0]\n",
    "    words = values[1:]\n",
    "    reshaped.append((emoji, name, words))\n",
    "\n",
    "with open(\"emoji-en-US-reshaped.json\", encoding=\"utf8\", mode=\"w\") as file:\n",
    "    json.dump(reshaped, file)"
   ]
  },
  {
   "cell_type": "code",
   "execution_count": 43,
   "metadata": {},
   "outputs": [
    {
     "name": "stdout",
     "output_type": "stream",
     "text": [
      "10.0 fruit 🥝 kiwi_fruit ['fruit', 'kiwifruit', 'gooseberry', 'chinese', 'kiwi', 'food']\n",
      "1.0 fruit 🥑 avocado ['avocado', 'fruit', 'food']\n",
      "1.0 fruit 🍌 banana ['fruit', 'plant', 'plantain', 'banana', 'monkey', 'food']\n",
      "1.0 fruit 🫑 bell pepper ['plant', 'fruit', 'bell pepper', 'vegetable', 'capsicum']\n",
      "1.0 fruit 🫐 blueberries ['fruit', 'blueberries', 'bilberry', 'blueberry', 'berry', 'blue']\n",
      "1.0 fruit 🥦 broccoli ['broccoli', 'fruit', 'wild', 'cabbage', 'vegetable', 'food']\n",
      "1.0 fruit 🍒 cherries ['fruit', 'berries', 'plant', 'cherry', 'cherries', 'wild', 'red', 'food']\n",
      "1.0 fruit 🥥 coconut ['coconut', 'fruit', 'piña', 'palm', 'cocoanut', 'nature', 'colada', 'food']\n",
      "1.0 fruit 🥒 cucumber ['fruit', 'pickle', 'cucumber', 'gherkin', 'vegetable', 'food']\n",
      "1.0 fruit 🍇 grapes ['fruit', 'plant', 'grape', 'wine', 'grapes', 'food']\n",
      "1.0 fruit 🍏 green_apple ['fruit', 'plant', 'golden', 'delicious', 'apple', 'granny', 'nature', 'smith', 'green']\n",
      "1.0 fruit 🍋 lemon ['fruit', 'plant', 'lemon', 'citrus', 'nature', 'lemonade']\n",
      "1.0 fruit 🍋‍🟩 lime ['lime', 'citric', 'fruit', 'acidic']\n",
      "1.0 fruit 🥭 mango ['mango', 'fruit', 'tropical', 'food']\n",
      "1.0 fruit 🍈 melon ['fruit', 'plant', 'honeydew', 'food', 'melon', 'muskmelon', 'nature', 'cantaloupe']\n",
      "1.0 fruit 🫒 olive ['olive', 'fruit', 'food', 'olives']\n",
      "1.0 fruit 🍑 peach ['butt', 'fruit', 'plant', 'bottom', 'nature', 'peach', 'food']\n",
      "1.0 fruit 🍐 pear ['fruit', 'plant', 'pear', 'nature', 'food']\n",
      "1.0 fruit 🍍 pineapple ['fruit', 'plant', 'pineapple', 'nature', 'food']\n",
      "1.0 fruit 🍎 red_apple ['fruit', 'plant', 'delicious', 'apple', 'red', 'mac', 'school']\n",
      "1.0 fruit 🍓 strawberry ['fruit', 'plant', 'berry', 'nature', 'strawberry', 'food']\n",
      "1.0 fruit 🍊 tangerine ['fruit', 'plant', 'tangerine', 'mandarin', 'orange', 'nature', 'food']\n",
      "1.0 fruit 🍅 tomato ['fruit', 'plant', 'nature', 'tomato', 'vegetable', 'food']\n",
      "1.0 fruit 🍹 tropical_drink ['bar', 'fruit', 'summer', 'mojito', 'beverage', 'vacation', 'tropical', 'booze', 'drink', 'punch', 'alcohol', 'cocktail', 'tiki', 'beach']\n",
      "1.0 fruit 🍉 watermelon ['fruit', 'picnic', 'plant', 'summer', 'watermelon', 'food']\n"
     ]
    }
   ],
   "source": [
    "with open(\"emoji-en-US-reshaped.json\", encoding=\"utf8\") as file:\n",
    "    source: list[tuple[str, str, list[str]]] = json.load(file)\n",
    "\n",
    "\n",
    "def get_match_ratio(query, words, threshold = 0.7):\n",
    "    match_ratio = 0.0\n",
    "    match_word = \"\"\n",
    "\n",
    "    for word in words:\n",
    "        ratio = SequenceMatcher(None, query, word).ratio()\n",
    "\n",
    "        if ratio > threshold and ratio > match_ratio:\n",
    "            match_ratio = ratio\n",
    "            match_word = word\n",
    "    \n",
    "    return match_ratio, match_word\n",
    "\n",
    "\n",
    "def search_list(query, source):\n",
    "    results = []\n",
    "\n",
    "    for entry in source:\n",
    "        name_ratio, name_word = get_match_ratio(query, entry[1].split(\"_\"))\n",
    "\n",
    "        # Boost direct name matches\n",
    "        if name_ratio == 1.0:\n",
    "                name_ratio = 10.0\n",
    "\n",
    "        extra_ratio, extra_word = get_match_ratio(query, entry[2])\n",
    "\n",
    "        if extra_ratio > name_ratio:\n",
    "            results.append([extra_ratio, extra_word, *entry])\n",
    "        elif name_ratio > 0:\n",
    "            results.append([name_ratio, name_word, *entry])\n",
    "\n",
    "    # Sort by name, then reverse ratio\n",
    "    # Works because python has stable sort\n",
    "    results.sort(key=lambda x: x[3])\n",
    "    results.sort(key=lambda x: -x[0])\n",
    "    return results\n",
    "\n",
    "\n",
    "results = search_list(\"fruit\", source)\n",
    "for result in results:\n",
    "    print(*result)"
   ]
  }
 ],
 "metadata": {
  "kernelspec": {
   "display_name": ".venv",
   "language": "python",
   "name": "python3"
  },
  "language_info": {
   "codemirror_mode": {
    "name": "ipython",
    "version": 3
   },
   "file_extension": ".py",
   "mimetype": "text/x-python",
   "name": "python",
   "nbconvert_exporter": "python",
   "pygments_lexer": "ipython3",
   "version": "3.12.1"
  }
 },
 "nbformat": 4,
 "nbformat_minor": 2
}
